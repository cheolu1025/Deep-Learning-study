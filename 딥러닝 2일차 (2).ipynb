{
 "cells": [
  {
   "cell_type": "code",
   "execution_count": 3,
   "id": "f61a0dba-d979-46c5-b981-a3e0130a537d",
   "metadata": {},
   "outputs": [
    {
     "name": "stdout",
     "output_type": "stream",
     "text": [
      "0.101 0.101\n",
      "0.10199998 0.10199998\n",
      "0.10299995 0.10299995\n",
      "0.10399987 0.10399987\n",
      "0.10499974 0.10499974\n",
      "0.10599957 0.10599957\n",
      "0.10699932 0.10699932\n",
      "0.10799901 0.107999004\n",
      "0.10899861 0.1089986\n",
      "0.10999812 0.1099981\n"
     ]
    }
   ],
   "source": [
    "import tensorflow as tf\n",
    "\n",
    "train_x = [1,2,3,4,5,6,7]\n",
    "train_y = [3,5,7,9,11,13,15]\n",
    "\n",
    "a= tf.Variable(0.1)\n",
    "b= tf.Variable(0.1)\n",
    "\n",
    "\n",
    "def 손실함수(a,b):\n",
    "    예측_y = train_x * a+b\n",
    "    return tf.keras.losses.mse(train_y,예측_y)\n",
    "\n",
    "\n",
    "opt= tf.keras.optimizers.legacy.Adam(learning_rate = 0.001)\n",
    "for i in range(10):\n",
    "    opt.minimize(lambda:손실함수(a,b),var_list=[a,b])\n",
    "    print(a.numpy(),b.numpy())\n",
    "\n",
    "\n"
   ]
  },
  {
   "cell_type": "code",
   "execution_count": null,
   "id": "a15f99c0-bd1b-4259-8913-683fdde30061",
   "metadata": {},
   "outputs": [],
   "source": []
  },
  {
   "cell_type": "code",
   "execution_count": null,
   "id": "6a6e02e5-6309-43c1-8fe9-45a8160834de",
   "metadata": {},
   "outputs": [],
   "source": []
  }
 ],
 "metadata": {
  "kernelspec": {
   "display_name": "Python 3 (ipykernel)",
   "language": "python",
   "name": "python3"
  },
  "language_info": {
   "codemirror_mode": {
    "name": "ipython",
    "version": 3
   },
   "file_extension": ".py",
   "mimetype": "text/x-python",
   "name": "python",
   "nbconvert_exporter": "python",
   "pygments_lexer": "ipython3",
   "version": "3.11.0"
  }
 },
 "nbformat": 4,
 "nbformat_minor": 5
}
